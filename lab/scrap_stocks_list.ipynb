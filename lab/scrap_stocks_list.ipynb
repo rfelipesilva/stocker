{
 "metadata": {
  "language_info": {
   "codemirror_mode": {
    "name": "ipython",
    "version": 3
   },
   "file_extension": ".py",
   "mimetype": "text/x-python",
   "name": "python",
   "nbconvert_exporter": "python",
   "pygments_lexer": "ipython3",
   "version": "3.8.6"
  },
  "orig_nbformat": 2,
  "kernelspec": {
   "name": "python386jvsc74a57bd01baa965d5efe3ac65b79dfc60c0d706280b1da80fedb7760faf2759126c4f253",
   "display_name": "Python 3.8.6 64-bit"
  },
  "metadata": {
   "interpreter": {
    "hash": "1baa965d5efe3ac65b79dfc60c0d706280b1da80fedb7760faf2759126c4f253"
   }
  }
 },
 "nbformat": 4,
 "nbformat_minor": 2,
 "cells": [
  {
   "cell_type": "code",
   "execution_count": 15,
   "metadata": {},
   "outputs": [],
   "source": [
    "import pandas as pd\n",
    "import time"
   ]
  },
  {
   "cell_type": "code",
   "execution_count": null,
   "metadata": {},
   "outputs": [],
   "source": [
    "# for reference, this is the link to get stocks from Brazil (mappend in Yahoo! finance):\n",
    "#! https://finance.yahoo.com/screener/unsaved/21918257-141b-4f72-88b0-ac10f88d9963?count=25&offset=1375"
   ]
  },
  {
   "cell_type": "code",
   "execution_count": 18,
   "metadata": {},
   "outputs": [
    {
     "output_type": "stream",
     "name": "stdout",
     "text": [
      "https://finance.yahoo.com/screener/unsaved/21918257-141b-4f72-88b0-ac10f88d9963?count=25&offset=0\n",
      "https://finance.yahoo.com/screener/unsaved/21918257-141b-4f72-88b0-ac10f88d9963?count=25&offset=25\n",
      "https://finance.yahoo.com/screener/unsaved/21918257-141b-4f72-88b0-ac10f88d9963?count=25&offset=50\n",
      "https://finance.yahoo.com/screener/unsaved/21918257-141b-4f72-88b0-ac10f88d9963?count=25&offset=75\n",
      "https://finance.yahoo.com/screener/unsaved/21918257-141b-4f72-88b0-ac10f88d9963?count=25&offset=100\n",
      "https://finance.yahoo.com/screener/unsaved/21918257-141b-4f72-88b0-ac10f88d9963?count=25&offset=125\n",
      "https://finance.yahoo.com/screener/unsaved/21918257-141b-4f72-88b0-ac10f88d9963?count=25&offset=150\n",
      "https://finance.yahoo.com/screener/unsaved/21918257-141b-4f72-88b0-ac10f88d9963?count=25&offset=175\n",
      "https://finance.yahoo.com/screener/unsaved/21918257-141b-4f72-88b0-ac10f88d9963?count=25&offset=200\n",
      "https://finance.yahoo.com/screener/unsaved/21918257-141b-4f72-88b0-ac10f88d9963?count=25&offset=225\n",
      "https://finance.yahoo.com/screener/unsaved/21918257-141b-4f72-88b0-ac10f88d9963?count=25&offset=250\n",
      "https://finance.yahoo.com/screener/unsaved/21918257-141b-4f72-88b0-ac10f88d9963?count=25&offset=275\n",
      "https://finance.yahoo.com/screener/unsaved/21918257-141b-4f72-88b0-ac10f88d9963?count=25&offset=300\n",
      "https://finance.yahoo.com/screener/unsaved/21918257-141b-4f72-88b0-ac10f88d9963?count=25&offset=325\n",
      "https://finance.yahoo.com/screener/unsaved/21918257-141b-4f72-88b0-ac10f88d9963?count=25&offset=350\n",
      "https://finance.yahoo.com/screener/unsaved/21918257-141b-4f72-88b0-ac10f88d9963?count=25&offset=375\n",
      "https://finance.yahoo.com/screener/unsaved/21918257-141b-4f72-88b0-ac10f88d9963?count=25&offset=400\n",
      "https://finance.yahoo.com/screener/unsaved/21918257-141b-4f72-88b0-ac10f88d9963?count=25&offset=425\n",
      "https://finance.yahoo.com/screener/unsaved/21918257-141b-4f72-88b0-ac10f88d9963?count=25&offset=450\n",
      "https://finance.yahoo.com/screener/unsaved/21918257-141b-4f72-88b0-ac10f88d9963?count=25&offset=475\n",
      "https://finance.yahoo.com/screener/unsaved/21918257-141b-4f72-88b0-ac10f88d9963?count=25&offset=500\n",
      "https://finance.yahoo.com/screener/unsaved/21918257-141b-4f72-88b0-ac10f88d9963?count=25&offset=525\n",
      "https://finance.yahoo.com/screener/unsaved/21918257-141b-4f72-88b0-ac10f88d9963?count=25&offset=550\n",
      "https://finance.yahoo.com/screener/unsaved/21918257-141b-4f72-88b0-ac10f88d9963?count=25&offset=575\n",
      "https://finance.yahoo.com/screener/unsaved/21918257-141b-4f72-88b0-ac10f88d9963?count=25&offset=600\n",
      "https://finance.yahoo.com/screener/unsaved/21918257-141b-4f72-88b0-ac10f88d9963?count=25&offset=625\n",
      "https://finance.yahoo.com/screener/unsaved/21918257-141b-4f72-88b0-ac10f88d9963?count=25&offset=650\n",
      "https://finance.yahoo.com/screener/unsaved/21918257-141b-4f72-88b0-ac10f88d9963?count=25&offset=675\n",
      "https://finance.yahoo.com/screener/unsaved/21918257-141b-4f72-88b0-ac10f88d9963?count=25&offset=700\n",
      "https://finance.yahoo.com/screener/unsaved/21918257-141b-4f72-88b0-ac10f88d9963?count=25&offset=725\n",
      "https://finance.yahoo.com/screener/unsaved/21918257-141b-4f72-88b0-ac10f88d9963?count=25&offset=750\n",
      "https://finance.yahoo.com/screener/unsaved/21918257-141b-4f72-88b0-ac10f88d9963?count=25&offset=775\n",
      "https://finance.yahoo.com/screener/unsaved/21918257-141b-4f72-88b0-ac10f88d9963?count=25&offset=800\n",
      "https://finance.yahoo.com/screener/unsaved/21918257-141b-4f72-88b0-ac10f88d9963?count=25&offset=825\n",
      "https://finance.yahoo.com/screener/unsaved/21918257-141b-4f72-88b0-ac10f88d9963?count=25&offset=850\n",
      "https://finance.yahoo.com/screener/unsaved/21918257-141b-4f72-88b0-ac10f88d9963?count=25&offset=875\n",
      "https://finance.yahoo.com/screener/unsaved/21918257-141b-4f72-88b0-ac10f88d9963?count=25&offset=900\n",
      "https://finance.yahoo.com/screener/unsaved/21918257-141b-4f72-88b0-ac10f88d9963?count=25&offset=925\n",
      "https://finance.yahoo.com/screener/unsaved/21918257-141b-4f72-88b0-ac10f88d9963?count=25&offset=950\n",
      "https://finance.yahoo.com/screener/unsaved/21918257-141b-4f72-88b0-ac10f88d9963?count=25&offset=975\n",
      "https://finance.yahoo.com/screener/unsaved/21918257-141b-4f72-88b0-ac10f88d9963?count=25&offset=1000\n",
      "https://finance.yahoo.com/screener/unsaved/21918257-141b-4f72-88b0-ac10f88d9963?count=25&offset=1025\n",
      "https://finance.yahoo.com/screener/unsaved/21918257-141b-4f72-88b0-ac10f88d9963?count=25&offset=1050\n",
      "https://finance.yahoo.com/screener/unsaved/21918257-141b-4f72-88b0-ac10f88d9963?count=25&offset=1075\n",
      "https://finance.yahoo.com/screener/unsaved/21918257-141b-4f72-88b0-ac10f88d9963?count=25&offset=1100\n",
      "https://finance.yahoo.com/screener/unsaved/21918257-141b-4f72-88b0-ac10f88d9963?count=25&offset=1125\n",
      "https://finance.yahoo.com/screener/unsaved/21918257-141b-4f72-88b0-ac10f88d9963?count=25&offset=1150\n",
      "https://finance.yahoo.com/screener/unsaved/21918257-141b-4f72-88b0-ac10f88d9963?count=25&offset=1175\n",
      "https://finance.yahoo.com/screener/unsaved/21918257-141b-4f72-88b0-ac10f88d9963?count=25&offset=1200\n",
      "https://finance.yahoo.com/screener/unsaved/21918257-141b-4f72-88b0-ac10f88d9963?count=25&offset=1225\n",
      "https://finance.yahoo.com/screener/unsaved/21918257-141b-4f72-88b0-ac10f88d9963?count=25&offset=1250\n",
      "https://finance.yahoo.com/screener/unsaved/21918257-141b-4f72-88b0-ac10f88d9963?count=25&offset=1275\n",
      "https://finance.yahoo.com/screener/unsaved/21918257-141b-4f72-88b0-ac10f88d9963?count=25&offset=1300\n",
      "https://finance.yahoo.com/screener/unsaved/21918257-141b-4f72-88b0-ac10f88d9963?count=25&offset=1325\n",
      "https://finance.yahoo.com/screener/unsaved/21918257-141b-4f72-88b0-ac10f88d9963?count=25&offset=1350\n",
      "https://finance.yahoo.com/screener/unsaved/21918257-141b-4f72-88b0-ac10f88d9963?count=25&offset=1375\n"
     ]
    }
   ],
   "source": [
    "df_to_contactenate = []\n",
    "for i in range(0, 1400, 25):\n",
    "    link = 'https://finance.yahoo.com/screener/unsaved/21918257-141b-4f72-88b0-ac10f88d9963?count=25&offset={}'.format(i)\n",
    "    print(link)\n",
    "    data = pd.read_html(link)[0]\n",
    "    df_to_contactenate.append(data[['Symbol', 'Name']])\n",
    "    time.sleep(5)\n",
    "last = pd.concat(df_to_contactenate)"
   ]
  },
  {
   "cell_type": "code",
   "execution_count": 22,
   "metadata": {},
   "outputs": [
    {
     "output_type": "execute_result",
     "data": {
      "text/plain": [
       "      Symbol                 Name\n",
       "0   OIBR3.SA              Oi S.A.\n",
       "1  FNOR11.SA       Finor -Ci Fund\n",
       "2   VVAR3.SA      Via Varejo S.A.\n",
       "3   COGN3.SA  Cogna Educação S.A.\n",
       "4   BBDC4.SA  Banco Bradesco S.A."
      ],
      "text/html": "<div>\n<style scoped>\n    .dataframe tbody tr th:only-of-type {\n        vertical-align: middle;\n    }\n\n    .dataframe tbody tr th {\n        vertical-align: top;\n    }\n\n    .dataframe thead th {\n        text-align: right;\n    }\n</style>\n<table border=\"1\" class=\"dataframe\">\n  <thead>\n    <tr style=\"text-align: right;\">\n      <th></th>\n      <th>Symbol</th>\n      <th>Name</th>\n    </tr>\n  </thead>\n  <tbody>\n    <tr>\n      <th>0</th>\n      <td>OIBR3.SA</td>\n      <td>Oi S.A.</td>\n    </tr>\n    <tr>\n      <th>1</th>\n      <td>FNOR11.SA</td>\n      <td>Finor -Ci Fund</td>\n    </tr>\n    <tr>\n      <th>2</th>\n      <td>VVAR3.SA</td>\n      <td>Via Varejo S.A.</td>\n    </tr>\n    <tr>\n      <th>3</th>\n      <td>COGN3.SA</td>\n      <td>Cogna Educação S.A.</td>\n    </tr>\n    <tr>\n      <th>4</th>\n      <td>BBDC4.SA</td>\n      <td>Banco Bradesco S.A.</td>\n    </tr>\n  </tbody>\n</table>\n</div>"
     },
     "metadata": {},
     "execution_count": 22
    }
   ],
   "source": [
    "last.head()"
   ]
  },
  {
   "cell_type": "code",
   "execution_count": 21,
   "metadata": {},
   "outputs": [],
   "source": [
    "last.to_csv('../data/bra_stocks_list.csv', sep = '|', encoding = 'UTF-8', index = False)"
   ]
  }
 ]
}