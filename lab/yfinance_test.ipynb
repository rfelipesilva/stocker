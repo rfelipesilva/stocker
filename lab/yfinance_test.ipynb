{
 "metadata": {
  "language_info": {
   "codemirror_mode": {
    "name": "ipython",
    "version": 3
   },
   "file_extension": ".py",
   "mimetype": "text/x-python",
   "name": "python",
   "nbconvert_exporter": "python",
   "pygments_lexer": "ipython3",
   "version": "3.8.6"
  },
  "orig_nbformat": 2,
  "kernelspec": {
   "name": "python386jvsc74a57bd01baa965d5efe3ac65b79dfc60c0d706280b1da80fedb7760faf2759126c4f253",
   "display_name": "Python 3.8.6 64-bit"
  },
  "metadata": {
   "interpreter": {
    "hash": "1baa965d5efe3ac65b79dfc60c0d706280b1da80fedb7760faf2759126c4f253"
   }
  }
 },
 "nbformat": 4,
 "nbformat_minor": 2,
 "cells": [
  {
   "cell_type": "code",
   "execution_count": 1,
   "metadata": {},
   "outputs": [],
   "source": [
    "import yfinance as yf"
   ]
  },
  {
   "cell_type": "code",
   "execution_count": 3,
   "metadata": {},
   "outputs": [],
   "source": [
    "x = yf.Ticker(\"VVAR3.SA\")"
   ]
  },
  {
   "cell_type": "code",
   "execution_count": 4,
   "metadata": {},
   "outputs": [
    {
     "output_type": "execute_result",
     "data": {
      "text/plain": [
       "             Open   High    Low  Close     Volume  Dividends  Stock Splits\n",
       "Date                                                                      \n",
       "2021-01-27  14.53  14.67  14.09  14.16   52955000          0             0\n",
       "2021-01-28  14.23  15.34  14.00  15.29   76742400          0             0\n",
       "2021-01-29  15.10  15.22  14.52  14.69   52117200          0             0\n",
       "2021-02-01  14.95  14.97  14.33  14.38   43615800          0             0\n",
       "2021-02-02  14.50  15.39  14.50  15.28   66421100          0             0\n",
       "2021-02-03  15.40  15.48  14.94  15.08   43533700          0             0\n",
       "2021-02-04  15.10  15.45  14.87  15.00   38573500          0             0\n",
       "2021-02-05  15.12  15.20  14.90  15.08   28331300          0             0\n",
       "2021-02-08  15.15  15.31  14.97  15.22   29991600          0             0\n",
       "2021-02-09  15.16  15.47  14.88  14.93   32861700          0             0\n",
       "2021-02-10  14.94  14.97  14.29  14.35   44553700          0             0\n",
       "2021-02-11  14.35  14.79  14.35  14.60   34604100          0             0\n",
       "2021-02-12  14.46  14.62  14.28  14.48   23298500          0             0\n",
       "2021-02-18  14.52  14.85  14.31  14.49   30153100          0             0\n",
       "2021-02-19  14.44  14.62  14.00  14.00   41836400          0             0\n",
       "2021-02-22  13.30  13.52  12.91  12.94   82960100          0             0\n",
       "2021-02-23  13.13  13.54  13.07  13.19   44204000          0             0\n",
       "2021-02-24  13.30  13.40  13.01  13.27   31119300          0             0\n",
       "2021-02-25  13.25  13.63  12.54  12.61   46153100          0             0\n",
       "2021-02-26  12.83  13.12  11.75  11.87   84955900          0             0\n",
       "2021-03-01  12.06  12.59  11.98  12.11   54354500          0             0\n",
       "2021-03-02  11.95  12.15  11.19  12.02   90248200          0             0\n",
       "2021-03-03  12.32  12.35  11.32  11.92  100482300          0             0\n",
       "2021-03-04  12.00  12.60  11.92  12.11   71643500          0             0\n",
       "2021-03-05  12.09  12.24  11.69  12.03   48767200          0             0\n",
       "2021-03-08  11.77  12.20  11.42  11.54   53512000          0             0\n",
       "2021-03-09  11.67  11.72  10.95  10.98   57537700          0             0\n",
       "2021-03-10  11.16  12.19  11.10  11.87   83404300          0             0\n",
       "2021-03-11  12.25  12.43  11.86  12.32   61901300          0             0\n",
       "2021-03-12  12.07  12.20  11.76  11.80   44522300          0             0\n",
       "2021-03-15  11.82  12.37  11.74  12.24   49170700          0             0\n",
       "2021-03-16  12.16  12.37  11.79  12.00   39226400          0             0\n",
       "2021-03-17  11.88  12.22  11.77  12.19   35344300          0             0\n",
       "2021-03-18  12.04  12.10  11.57  11.61   43101000          0             0\n",
       "2021-03-19  11.70  12.23  11.69  12.16   56012400          0             0\n",
       "2021-03-22  12.07  12.44  11.83  12.08   41359500          0             0\n",
       "2021-03-23  12.01  12.22  11.77  12.11   35429000          0             0\n",
       "2021-03-24  12.18  12.21  11.40  11.44   52821600          0             0\n",
       "2021-03-25  11.50  12.04  11.32  12.04   52518100          0             0\n",
       "2021-03-26  12.02  12.13  11.74  11.97   37612300          0             0\n",
       "2021-03-29  11.95  12.07  11.72  11.81   33548900          0             0\n",
       "2021-03-30  11.83  12.45  11.79  12.34   49654600          0             0\n",
       "2021-03-31  12.32  12.49  12.01  12.07   36317300          0             0\n",
       "2021-04-01  12.10  12.52  12.07  12.25   40294400          0             0\n",
       "2021-04-05  12.50  12.67  12.35  12.52   31041400          0             0\n",
       "2021-04-06  12.56  12.66  12.28  12.36   32542700          0             0\n",
       "2021-04-07  12.31  12.42  12.07  12.31   31742600          0             0\n",
       "2021-04-08  12.33  13.04  12.28  12.92   52506500          0             0\n",
       "2021-04-09  12.80  12.82  12.40  12.47   51000000          0             0\n",
       "2021-04-12  12.57  12.69  12.36  12.57   30344100          0             0\n",
       "2021-04-13  12.59  12.83  12.50  12.61   40659300          0             0\n",
       "2021-04-14  12.68  12.93  12.54  12.78   40757900          0             0\n",
       "2021-04-15  12.88  13.03  12.71  12.83   37052900          0             0\n",
       "2021-04-16  12.80  12.89  12.58  12.75   35421000          0             0\n",
       "2021-04-19  12.80  12.95  12.65  12.80   42285500          0             0\n",
       "2021-04-20  12.78  12.83  12.50  12.67   31459600          0             0\n",
       "2021-04-22  12.76  13.27  12.59  12.63   46846200          0             0\n",
       "2021-04-23  12.85  13.16  12.69  13.12   49600800          0             0\n",
       "2021-04-26  13.35  13.45  12.74  12.85   59503000          0             0\n",
       "2021-04-27  12.90  12.93  12.11  12.16   83397400          0             0"
      ],
      "text/html": "<div>\n<style scoped>\n    .dataframe tbody tr th:only-of-type {\n        vertical-align: middle;\n    }\n\n    .dataframe tbody tr th {\n        vertical-align: top;\n    }\n\n    .dataframe thead th {\n        text-align: right;\n    }\n</style>\n<table border=\"1\" class=\"dataframe\">\n  <thead>\n    <tr style=\"text-align: right;\">\n      <th></th>\n      <th>Open</th>\n      <th>High</th>\n      <th>Low</th>\n      <th>Close</th>\n      <th>Volume</th>\n      <th>Dividends</th>\n      <th>Stock Splits</th>\n    </tr>\n    <tr>\n      <th>Date</th>\n      <th></th>\n      <th></th>\n      <th></th>\n      <th></th>\n      <th></th>\n      <th></th>\n      <th></th>\n    </tr>\n  </thead>\n  <tbody>\n    <tr>\n      <th>2021-01-27</th>\n      <td>14.53</td>\n      <td>14.67</td>\n      <td>14.09</td>\n      <td>14.16</td>\n      <td>52955000</td>\n      <td>0</td>\n      <td>0</td>\n    </tr>\n    <tr>\n      <th>2021-01-28</th>\n      <td>14.23</td>\n      <td>15.34</td>\n      <td>14.00</td>\n      <td>15.29</td>\n      <td>76742400</td>\n      <td>0</td>\n      <td>0</td>\n    </tr>\n    <tr>\n      <th>2021-01-29</th>\n      <td>15.10</td>\n      <td>15.22</td>\n      <td>14.52</td>\n      <td>14.69</td>\n      <td>52117200</td>\n      <td>0</td>\n      <td>0</td>\n    </tr>\n    <tr>\n      <th>2021-02-01</th>\n      <td>14.95</td>\n      <td>14.97</td>\n      <td>14.33</td>\n      <td>14.38</td>\n      <td>43615800</td>\n      <td>0</td>\n      <td>0</td>\n    </tr>\n    <tr>\n      <th>2021-02-02</th>\n      <td>14.50</td>\n      <td>15.39</td>\n      <td>14.50</td>\n      <td>15.28</td>\n      <td>66421100</td>\n      <td>0</td>\n      <td>0</td>\n    </tr>\n    <tr>\n      <th>2021-02-03</th>\n      <td>15.40</td>\n      <td>15.48</td>\n      <td>14.94</td>\n      <td>15.08</td>\n      <td>43533700</td>\n      <td>0</td>\n      <td>0</td>\n    </tr>\n    <tr>\n      <th>2021-02-04</th>\n      <td>15.10</td>\n      <td>15.45</td>\n      <td>14.87</td>\n      <td>15.00</td>\n      <td>38573500</td>\n      <td>0</td>\n      <td>0</td>\n    </tr>\n    <tr>\n      <th>2021-02-05</th>\n      <td>15.12</td>\n      <td>15.20</td>\n      <td>14.90</td>\n      <td>15.08</td>\n      <td>28331300</td>\n      <td>0</td>\n      <td>0</td>\n    </tr>\n    <tr>\n      <th>2021-02-08</th>\n      <td>15.15</td>\n      <td>15.31</td>\n      <td>14.97</td>\n      <td>15.22</td>\n      <td>29991600</td>\n      <td>0</td>\n      <td>0</td>\n    </tr>\n    <tr>\n      <th>2021-02-09</th>\n      <td>15.16</td>\n      <td>15.47</td>\n      <td>14.88</td>\n      <td>14.93</td>\n      <td>32861700</td>\n      <td>0</td>\n      <td>0</td>\n    </tr>\n    <tr>\n      <th>2021-02-10</th>\n      <td>14.94</td>\n      <td>14.97</td>\n      <td>14.29</td>\n      <td>14.35</td>\n      <td>44553700</td>\n      <td>0</td>\n      <td>0</td>\n    </tr>\n    <tr>\n      <th>2021-02-11</th>\n      <td>14.35</td>\n      <td>14.79</td>\n      <td>14.35</td>\n      <td>14.60</td>\n      <td>34604100</td>\n      <td>0</td>\n      <td>0</td>\n    </tr>\n    <tr>\n      <th>2021-02-12</th>\n      <td>14.46</td>\n      <td>14.62</td>\n      <td>14.28</td>\n      <td>14.48</td>\n      <td>23298500</td>\n      <td>0</td>\n      <td>0</td>\n    </tr>\n    <tr>\n      <th>2021-02-18</th>\n      <td>14.52</td>\n      <td>14.85</td>\n      <td>14.31</td>\n      <td>14.49</td>\n      <td>30153100</td>\n      <td>0</td>\n      <td>0</td>\n    </tr>\n    <tr>\n      <th>2021-02-19</th>\n      <td>14.44</td>\n      <td>14.62</td>\n      <td>14.00</td>\n      <td>14.00</td>\n      <td>41836400</td>\n      <td>0</td>\n      <td>0</td>\n    </tr>\n    <tr>\n      <th>2021-02-22</th>\n      <td>13.30</td>\n      <td>13.52</td>\n      <td>12.91</td>\n      <td>12.94</td>\n      <td>82960100</td>\n      <td>0</td>\n      <td>0</td>\n    </tr>\n    <tr>\n      <th>2021-02-23</th>\n      <td>13.13</td>\n      <td>13.54</td>\n      <td>13.07</td>\n      <td>13.19</td>\n      <td>44204000</td>\n      <td>0</td>\n      <td>0</td>\n    </tr>\n    <tr>\n      <th>2021-02-24</th>\n      <td>13.30</td>\n      <td>13.40</td>\n      <td>13.01</td>\n      <td>13.27</td>\n      <td>31119300</td>\n      <td>0</td>\n      <td>0</td>\n    </tr>\n    <tr>\n      <th>2021-02-25</th>\n      <td>13.25</td>\n      <td>13.63</td>\n      <td>12.54</td>\n      <td>12.61</td>\n      <td>46153100</td>\n      <td>0</td>\n      <td>0</td>\n    </tr>\n    <tr>\n      <th>2021-02-26</th>\n      <td>12.83</td>\n      <td>13.12</td>\n      <td>11.75</td>\n      <td>11.87</td>\n      <td>84955900</td>\n      <td>0</td>\n      <td>0</td>\n    </tr>\n    <tr>\n      <th>2021-03-01</th>\n      <td>12.06</td>\n      <td>12.59</td>\n      <td>11.98</td>\n      <td>12.11</td>\n      <td>54354500</td>\n      <td>0</td>\n      <td>0</td>\n    </tr>\n    <tr>\n      <th>2021-03-02</th>\n      <td>11.95</td>\n      <td>12.15</td>\n      <td>11.19</td>\n      <td>12.02</td>\n      <td>90248200</td>\n      <td>0</td>\n      <td>0</td>\n    </tr>\n    <tr>\n      <th>2021-03-03</th>\n      <td>12.32</td>\n      <td>12.35</td>\n      <td>11.32</td>\n      <td>11.92</td>\n      <td>100482300</td>\n      <td>0</td>\n      <td>0</td>\n    </tr>\n    <tr>\n      <th>2021-03-04</th>\n      <td>12.00</td>\n      <td>12.60</td>\n      <td>11.92</td>\n      <td>12.11</td>\n      <td>71643500</td>\n      <td>0</td>\n      <td>0</td>\n    </tr>\n    <tr>\n      <th>2021-03-05</th>\n      <td>12.09</td>\n      <td>12.24</td>\n      <td>11.69</td>\n      <td>12.03</td>\n      <td>48767200</td>\n      <td>0</td>\n      <td>0</td>\n    </tr>\n    <tr>\n      <th>2021-03-08</th>\n      <td>11.77</td>\n      <td>12.20</td>\n      <td>11.42</td>\n      <td>11.54</td>\n      <td>53512000</td>\n      <td>0</td>\n      <td>0</td>\n    </tr>\n    <tr>\n      <th>2021-03-09</th>\n      <td>11.67</td>\n      <td>11.72</td>\n      <td>10.95</td>\n      <td>10.98</td>\n      <td>57537700</td>\n      <td>0</td>\n      <td>0</td>\n    </tr>\n    <tr>\n      <th>2021-03-10</th>\n      <td>11.16</td>\n      <td>12.19</td>\n      <td>11.10</td>\n      <td>11.87</td>\n      <td>83404300</td>\n      <td>0</td>\n      <td>0</td>\n    </tr>\n    <tr>\n      <th>2021-03-11</th>\n      <td>12.25</td>\n      <td>12.43</td>\n      <td>11.86</td>\n      <td>12.32</td>\n      <td>61901300</td>\n      <td>0</td>\n      <td>0</td>\n    </tr>\n    <tr>\n      <th>2021-03-12</th>\n      <td>12.07</td>\n      <td>12.20</td>\n      <td>11.76</td>\n      <td>11.80</td>\n      <td>44522300</td>\n      <td>0</td>\n      <td>0</td>\n    </tr>\n    <tr>\n      <th>2021-03-15</th>\n      <td>11.82</td>\n      <td>12.37</td>\n      <td>11.74</td>\n      <td>12.24</td>\n      <td>49170700</td>\n      <td>0</td>\n      <td>0</td>\n    </tr>\n    <tr>\n      <th>2021-03-16</th>\n      <td>12.16</td>\n      <td>12.37</td>\n      <td>11.79</td>\n      <td>12.00</td>\n      <td>39226400</td>\n      <td>0</td>\n      <td>0</td>\n    </tr>\n    <tr>\n      <th>2021-03-17</th>\n      <td>11.88</td>\n      <td>12.22</td>\n      <td>11.77</td>\n      <td>12.19</td>\n      <td>35344300</td>\n      <td>0</td>\n      <td>0</td>\n    </tr>\n    <tr>\n      <th>2021-03-18</th>\n      <td>12.04</td>\n      <td>12.10</td>\n      <td>11.57</td>\n      <td>11.61</td>\n      <td>43101000</td>\n      <td>0</td>\n      <td>0</td>\n    </tr>\n    <tr>\n      <th>2021-03-19</th>\n      <td>11.70</td>\n      <td>12.23</td>\n      <td>11.69</td>\n      <td>12.16</td>\n      <td>56012400</td>\n      <td>0</td>\n      <td>0</td>\n    </tr>\n    <tr>\n      <th>2021-03-22</th>\n      <td>12.07</td>\n      <td>12.44</td>\n      <td>11.83</td>\n      <td>12.08</td>\n      <td>41359500</td>\n      <td>0</td>\n      <td>0</td>\n    </tr>\n    <tr>\n      <th>2021-03-23</th>\n      <td>12.01</td>\n      <td>12.22</td>\n      <td>11.77</td>\n      <td>12.11</td>\n      <td>35429000</td>\n      <td>0</td>\n      <td>0</td>\n    </tr>\n    <tr>\n      <th>2021-03-24</th>\n      <td>12.18</td>\n      <td>12.21</td>\n      <td>11.40</td>\n      <td>11.44</td>\n      <td>52821600</td>\n      <td>0</td>\n      <td>0</td>\n    </tr>\n    <tr>\n      <th>2021-03-25</th>\n      <td>11.50</td>\n      <td>12.04</td>\n      <td>11.32</td>\n      <td>12.04</td>\n      <td>52518100</td>\n      <td>0</td>\n      <td>0</td>\n    </tr>\n    <tr>\n      <th>2021-03-26</th>\n      <td>12.02</td>\n      <td>12.13</td>\n      <td>11.74</td>\n      <td>11.97</td>\n      <td>37612300</td>\n      <td>0</td>\n      <td>0</td>\n    </tr>\n    <tr>\n      <th>2021-03-29</th>\n      <td>11.95</td>\n      <td>12.07</td>\n      <td>11.72</td>\n      <td>11.81</td>\n      <td>33548900</td>\n      <td>0</td>\n      <td>0</td>\n    </tr>\n    <tr>\n      <th>2021-03-30</th>\n      <td>11.83</td>\n      <td>12.45</td>\n      <td>11.79</td>\n      <td>12.34</td>\n      <td>49654600</td>\n      <td>0</td>\n      <td>0</td>\n    </tr>\n    <tr>\n      <th>2021-03-31</th>\n      <td>12.32</td>\n      <td>12.49</td>\n      <td>12.01</td>\n      <td>12.07</td>\n      <td>36317300</td>\n      <td>0</td>\n      <td>0</td>\n    </tr>\n    <tr>\n      <th>2021-04-01</th>\n      <td>12.10</td>\n      <td>12.52</td>\n      <td>12.07</td>\n      <td>12.25</td>\n      <td>40294400</td>\n      <td>0</td>\n      <td>0</td>\n    </tr>\n    <tr>\n      <th>2021-04-05</th>\n      <td>12.50</td>\n      <td>12.67</td>\n      <td>12.35</td>\n      <td>12.52</td>\n      <td>31041400</td>\n      <td>0</td>\n      <td>0</td>\n    </tr>\n    <tr>\n      <th>2021-04-06</th>\n      <td>12.56</td>\n      <td>12.66</td>\n      <td>12.28</td>\n      <td>12.36</td>\n      <td>32542700</td>\n      <td>0</td>\n      <td>0</td>\n    </tr>\n    <tr>\n      <th>2021-04-07</th>\n      <td>12.31</td>\n      <td>12.42</td>\n      <td>12.07</td>\n      <td>12.31</td>\n      <td>31742600</td>\n      <td>0</td>\n      <td>0</td>\n    </tr>\n    <tr>\n      <th>2021-04-08</th>\n      <td>12.33</td>\n      <td>13.04</td>\n      <td>12.28</td>\n      <td>12.92</td>\n      <td>52506500</td>\n      <td>0</td>\n      <td>0</td>\n    </tr>\n    <tr>\n      <th>2021-04-09</th>\n      <td>12.80</td>\n      <td>12.82</td>\n      <td>12.40</td>\n      <td>12.47</td>\n      <td>51000000</td>\n      <td>0</td>\n      <td>0</td>\n    </tr>\n    <tr>\n      <th>2021-04-12</th>\n      <td>12.57</td>\n      <td>12.69</td>\n      <td>12.36</td>\n      <td>12.57</td>\n      <td>30344100</td>\n      <td>0</td>\n      <td>0</td>\n    </tr>\n    <tr>\n      <th>2021-04-13</th>\n      <td>12.59</td>\n      <td>12.83</td>\n      <td>12.50</td>\n      <td>12.61</td>\n      <td>40659300</td>\n      <td>0</td>\n      <td>0</td>\n    </tr>\n    <tr>\n      <th>2021-04-14</th>\n      <td>12.68</td>\n      <td>12.93</td>\n      <td>12.54</td>\n      <td>12.78</td>\n      <td>40757900</td>\n      <td>0</td>\n      <td>0</td>\n    </tr>\n    <tr>\n      <th>2021-04-15</th>\n      <td>12.88</td>\n      <td>13.03</td>\n      <td>12.71</td>\n      <td>12.83</td>\n      <td>37052900</td>\n      <td>0</td>\n      <td>0</td>\n    </tr>\n    <tr>\n      <th>2021-04-16</th>\n      <td>12.80</td>\n      <td>12.89</td>\n      <td>12.58</td>\n      <td>12.75</td>\n      <td>35421000</td>\n      <td>0</td>\n      <td>0</td>\n    </tr>\n    <tr>\n      <th>2021-04-19</th>\n      <td>12.80</td>\n      <td>12.95</td>\n      <td>12.65</td>\n      <td>12.80</td>\n      <td>42285500</td>\n      <td>0</td>\n      <td>0</td>\n    </tr>\n    <tr>\n      <th>2021-04-20</th>\n      <td>12.78</td>\n      <td>12.83</td>\n      <td>12.50</td>\n      <td>12.67</td>\n      <td>31459600</td>\n      <td>0</td>\n      <td>0</td>\n    </tr>\n    <tr>\n      <th>2021-04-22</th>\n      <td>12.76</td>\n      <td>13.27</td>\n      <td>12.59</td>\n      <td>12.63</td>\n      <td>46846200</td>\n      <td>0</td>\n      <td>0</td>\n    </tr>\n    <tr>\n      <th>2021-04-23</th>\n      <td>12.85</td>\n      <td>13.16</td>\n      <td>12.69</td>\n      <td>13.12</td>\n      <td>49600800</td>\n      <td>0</td>\n      <td>0</td>\n    </tr>\n    <tr>\n      <th>2021-04-26</th>\n      <td>13.35</td>\n      <td>13.45</td>\n      <td>12.74</td>\n      <td>12.85</td>\n      <td>59503000</td>\n      <td>0</td>\n      <td>0</td>\n    </tr>\n    <tr>\n      <th>2021-04-27</th>\n      <td>12.90</td>\n      <td>12.93</td>\n      <td>12.11</td>\n      <td>12.16</td>\n      <td>83397400</td>\n      <td>0</td>\n      <td>0</td>\n    </tr>\n  </tbody>\n</table>\n</div>"
     },
     "metadata": {},
     "execution_count": 4
    }
   ],
   "source": [
    "x.history(period = '3mo')"
   ]
  },
  {
   "cell_type": "code",
   "execution_count": null,
   "metadata": {},
   "outputs": [],
   "source": []
  },
  {
   "cell_type": "code",
   "execution_count": null,
   "metadata": {},
   "outputs": [],
   "source": []
  }
 ]
}