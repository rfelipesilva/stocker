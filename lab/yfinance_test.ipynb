{
 "metadata": {
  "language_info": {
   "codemirror_mode": {
    "name": "ipython",
    "version": 3
   },
   "file_extension": ".py",
   "mimetype": "text/x-python",
   "name": "python",
   "nbconvert_exporter": "python",
   "pygments_lexer": "ipython3",
   "version": "3.8.6"
  },
  "orig_nbformat": 2,
  "kernelspec": {
   "name": "python386jvsc74a57bd01baa965d5efe3ac65b79dfc60c0d706280b1da80fedb7760faf2759126c4f253",
   "display_name": "Python 3.8.6 64-bit"
  },
  "metadata": {
   "interpreter": {
    "hash": "1baa965d5efe3ac65b79dfc60c0d706280b1da80fedb7760faf2759126c4f253"
   }
  }
 },
 "nbformat": 4,
 "nbformat_minor": 2,
 "cells": [
  {
   "cell_type": "code",
   "execution_count": 20,
   "metadata": {},
   "outputs": [],
   "source": [
    "import yfinance as yf"
   ]
  },
  {
   "cell_type": "code",
   "execution_count": 6,
   "metadata": {},
   "outputs": [],
   "source": [
    "x = yf.Ticker(\"VVAR3.SA\")"
   ]
  },
  {
   "cell_type": "code",
   "execution_count": 8,
   "metadata": {},
   "outputs": [
    {
     "output_type": "execute_result",
     "data": {
      "text/plain": [
       "             Open   High    Low  Close    Volume  Dividends  Stock Splits\n",
       "Date                                                                     \n",
       "2021-03-29  11.95  12.07  11.72  11.81  33548900          0             0\n",
       "2021-03-30  11.83  12.45  11.79  12.34  49654600          0             0\n",
       "2021-03-31  12.32  12.49  12.01  12.07  36317300          0             0\n",
       "2021-04-01  12.10  12.52  12.07  12.25  40294400          0             0\n",
       "2021-04-05  12.50  12.67  12.35  12.52  31041400          0             0\n",
       "2021-04-06  12.56  12.66  12.28  12.36  32542700          0             0\n",
       "2021-04-07  12.31  12.42  12.07  12.31  31742600          0             0\n",
       "2021-04-08  12.33  13.04  12.28  12.92  52506500          0             0\n",
       "2021-04-09  12.80  12.82  12.40  12.47  51000000          0             0\n",
       "2021-04-12  12.57  12.69  12.36  12.57  30344100          0             0\n",
       "2021-04-13  12.59  12.83  12.50  12.61  40659300          0             0\n",
       "2021-04-14  12.68  12.93  12.54  12.78  40757900          0             0\n",
       "2021-04-15  12.88  13.03  12.71  12.83  37052900          0             0\n",
       "2021-04-16  12.80  12.89  12.58  12.75  35421000          0             0\n",
       "2021-04-19  12.80  12.95  12.65  12.80  42285500          0             0\n",
       "2021-04-20  12.78  12.83  12.50  12.67  31459600          0             0\n",
       "2021-04-22  12.76  13.27  12.59  12.63  46846200          0             0\n",
       "2021-04-23  12.85  13.16  12.69  13.12  49600800          0             0\n",
       "2021-04-26  13.35  13.45  12.74  12.85  59503000          0             0\n",
       "2021-04-27  12.90  12.93  12.11  12.16  84091000          0             0\n",
       "2021-04-28   0.00   0.00   0.00  12.22         0          0             0"
      ],
      "text/html": "<div>\n<style scoped>\n    .dataframe tbody tr th:only-of-type {\n        vertical-align: middle;\n    }\n\n    .dataframe tbody tr th {\n        vertical-align: top;\n    }\n\n    .dataframe thead th {\n        text-align: right;\n    }\n</style>\n<table border=\"1\" class=\"dataframe\">\n  <thead>\n    <tr style=\"text-align: right;\">\n      <th></th>\n      <th>Open</th>\n      <th>High</th>\n      <th>Low</th>\n      <th>Close</th>\n      <th>Volume</th>\n      <th>Dividends</th>\n      <th>Stock Splits</th>\n    </tr>\n    <tr>\n      <th>Date</th>\n      <th></th>\n      <th></th>\n      <th></th>\n      <th></th>\n      <th></th>\n      <th></th>\n      <th></th>\n    </tr>\n  </thead>\n  <tbody>\n    <tr>\n      <th>2021-03-29</th>\n      <td>11.95</td>\n      <td>12.07</td>\n      <td>11.72</td>\n      <td>11.81</td>\n      <td>33548900</td>\n      <td>0</td>\n      <td>0</td>\n    </tr>\n    <tr>\n      <th>2021-03-30</th>\n      <td>11.83</td>\n      <td>12.45</td>\n      <td>11.79</td>\n      <td>12.34</td>\n      <td>49654600</td>\n      <td>0</td>\n      <td>0</td>\n    </tr>\n    <tr>\n      <th>2021-03-31</th>\n      <td>12.32</td>\n      <td>12.49</td>\n      <td>12.01</td>\n      <td>12.07</td>\n      <td>36317300</td>\n      <td>0</td>\n      <td>0</td>\n    </tr>\n    <tr>\n      <th>2021-04-01</th>\n      <td>12.10</td>\n      <td>12.52</td>\n      <td>12.07</td>\n      <td>12.25</td>\n      <td>40294400</td>\n      <td>0</td>\n      <td>0</td>\n    </tr>\n    <tr>\n      <th>2021-04-05</th>\n      <td>12.50</td>\n      <td>12.67</td>\n      <td>12.35</td>\n      <td>12.52</td>\n      <td>31041400</td>\n      <td>0</td>\n      <td>0</td>\n    </tr>\n    <tr>\n      <th>2021-04-06</th>\n      <td>12.56</td>\n      <td>12.66</td>\n      <td>12.28</td>\n      <td>12.36</td>\n      <td>32542700</td>\n      <td>0</td>\n      <td>0</td>\n    </tr>\n    <tr>\n      <th>2021-04-07</th>\n      <td>12.31</td>\n      <td>12.42</td>\n      <td>12.07</td>\n      <td>12.31</td>\n      <td>31742600</td>\n      <td>0</td>\n      <td>0</td>\n    </tr>\n    <tr>\n      <th>2021-04-08</th>\n      <td>12.33</td>\n      <td>13.04</td>\n      <td>12.28</td>\n      <td>12.92</td>\n      <td>52506500</td>\n      <td>0</td>\n      <td>0</td>\n    </tr>\n    <tr>\n      <th>2021-04-09</th>\n      <td>12.80</td>\n      <td>12.82</td>\n      <td>12.40</td>\n      <td>12.47</td>\n      <td>51000000</td>\n      <td>0</td>\n      <td>0</td>\n    </tr>\n    <tr>\n      <th>2021-04-12</th>\n      <td>12.57</td>\n      <td>12.69</td>\n      <td>12.36</td>\n      <td>12.57</td>\n      <td>30344100</td>\n      <td>0</td>\n      <td>0</td>\n    </tr>\n    <tr>\n      <th>2021-04-13</th>\n      <td>12.59</td>\n      <td>12.83</td>\n      <td>12.50</td>\n      <td>12.61</td>\n      <td>40659300</td>\n      <td>0</td>\n      <td>0</td>\n    </tr>\n    <tr>\n      <th>2021-04-14</th>\n      <td>12.68</td>\n      <td>12.93</td>\n      <td>12.54</td>\n      <td>12.78</td>\n      <td>40757900</td>\n      <td>0</td>\n      <td>0</td>\n    </tr>\n    <tr>\n      <th>2021-04-15</th>\n      <td>12.88</td>\n      <td>13.03</td>\n      <td>12.71</td>\n      <td>12.83</td>\n      <td>37052900</td>\n      <td>0</td>\n      <td>0</td>\n    </tr>\n    <tr>\n      <th>2021-04-16</th>\n      <td>12.80</td>\n      <td>12.89</td>\n      <td>12.58</td>\n      <td>12.75</td>\n      <td>35421000</td>\n      <td>0</td>\n      <td>0</td>\n    </tr>\n    <tr>\n      <th>2021-04-19</th>\n      <td>12.80</td>\n      <td>12.95</td>\n      <td>12.65</td>\n      <td>12.80</td>\n      <td>42285500</td>\n      <td>0</td>\n      <td>0</td>\n    </tr>\n    <tr>\n      <th>2021-04-20</th>\n      <td>12.78</td>\n      <td>12.83</td>\n      <td>12.50</td>\n      <td>12.67</td>\n      <td>31459600</td>\n      <td>0</td>\n      <td>0</td>\n    </tr>\n    <tr>\n      <th>2021-04-22</th>\n      <td>12.76</td>\n      <td>13.27</td>\n      <td>12.59</td>\n      <td>12.63</td>\n      <td>46846200</td>\n      <td>0</td>\n      <td>0</td>\n    </tr>\n    <tr>\n      <th>2021-04-23</th>\n      <td>12.85</td>\n      <td>13.16</td>\n      <td>12.69</td>\n      <td>13.12</td>\n      <td>49600800</td>\n      <td>0</td>\n      <td>0</td>\n    </tr>\n    <tr>\n      <th>2021-04-26</th>\n      <td>13.35</td>\n      <td>13.45</td>\n      <td>12.74</td>\n      <td>12.85</td>\n      <td>59503000</td>\n      <td>0</td>\n      <td>0</td>\n    </tr>\n    <tr>\n      <th>2021-04-27</th>\n      <td>12.90</td>\n      <td>12.93</td>\n      <td>12.11</td>\n      <td>12.16</td>\n      <td>84091000</td>\n      <td>0</td>\n      <td>0</td>\n    </tr>\n    <tr>\n      <th>2021-04-28</th>\n      <td>0.00</td>\n      <td>0.00</td>\n      <td>0.00</td>\n      <td>12.22</td>\n      <td>0</td>\n      <td>0</td>\n      <td>0</td>\n    </tr>\n  </tbody>\n</table>\n</div>"
     },
     "metadata": {},
     "execution_count": 8
    }
   ],
   "source": [
    "x.history(period = '1mo')"
   ]
  },
  {
   "cell_type": "code",
   "execution_count": null,
   "metadata": {},
   "outputs": [],
   "source": []
  }
 ]
}